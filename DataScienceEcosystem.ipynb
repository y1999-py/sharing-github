{
 "cells": [
  {
   "cell_type": "markdown",
   "id": "e7042b8d-7214-45d8-b5b9-466c077f5d51",
   "metadata": {},
   "source": [
    "Data Science Tools and Ecosystem."
   ]
  },
  {
   "cell_type": "markdown",
   "id": "f9dd49a7-7c76-4e95-8fd9-ea0264240949",
   "metadata": {},
   "source": [
    "In this notebook, Data Science Tools and Ecosystem are summarized."
   ]
  },
  {
   "cell_type": "code",
   "execution_count": null,
   "id": "516ec0cc-ae91-4b00-8a8c-d731b6319e49",
   "metadata": {},
   "outputs": [],
   "source": [
    "Some of the popular languages that Data Scientists use are:\n",
    "1.Python\n",
    "2.R\n",
    "3.SQL"
   ]
  },
  {
   "cell_type": "code",
   "execution_count": null,
   "id": "c722220a-de70-46d3-a570-b51740d274ae",
   "metadata": {},
   "outputs": [],
   "source": [
    "Some of the commonly used libraries used by Data Scientists include:\n",
    "1.NumPy\n",
    "2.Pandas\n",
    "3.Matplotlib"
   ]
  },
  {
   "cell_type": "markdown",
   "id": "1173cfe1-fc10-408f-b627-2e9454ba83bb",
   "metadata": {},
   "source": [
    "Data Science Tools:\n",
    "               \t\t     |Data Science Tools|\n",
    "SAS. It is one of those data science tools which are specifically designed for statistical operation\t\t\n",
    "Apache Spark\t\t\n",
    "BigML\n"
   ]
  },
  {
   "cell_type": "markdown",
   "id": "25623328-9310-4597-8b36-520744bb43e6",
   "metadata": {},
   "source": [
    "### Below are a few examples of evaluating arithmetic expressions in Python\n"
   ]
  },
  {
   "cell_type": "code",
   "execution_count": 1,
   "id": "639df488-6a78-4fa5-885b-4c2b46484b97",
   "metadata": {},
   "outputs": [
    {
     "data": {
      "text/plain": [
       "9"
      ]
     },
     "execution_count": 1,
     "metadata": {},
     "output_type": "execute_result"
    }
   ],
   "source": [
    "code = compile(\"5+4\",\"<string>\",\"eval\")\n",
    "eval(code)"
   ]
  },
  {
   "cell_type": "code",
   "execution_count": 2,
   "id": "7ec1d9bc-108c-40f1-89fa-f1a9827ab244",
   "metadata": {},
   "outputs": [
    {
     "data": {
      "text/plain": [
       "24"
      ]
     },
     "execution_count": 2,
     "metadata": {},
     "output_type": "execute_result"
    }
   ],
   "source": [
    "code1 = compile(\"(5+7)*2\",\"<string>\",\"eval\")\n",
    "eval(code1)"
   ]
  },
  {
   "cell_type": "code",
   "execution_count": 3,
   "id": "3c6b8af7-0420-4e53-a986-138f8c8c5555",
   "metadata": {},
   "outputs": [
    {
     "data": {
      "text/plain": [
       "65449.84694978735"
      ]
     },
     "execution_count": 3,
     "metadata": {},
     "output_type": "execute_result"
    }
   ],
   "source": [
    "import math\n",
    "code2=compile(\"4/3*math.pi*math.pow(25,3)\",\"<string>\",\"eval\")\n",
    "eval(code2)"
   ]
  },
  {
   "cell_type": "markdown",
   "id": "f2473216-84ce-480f-971c-9e7bcb82fc81",
   "metadata": {},
   "source": [
    "This is a simple arithmetic expression to multiply then add integers."
   ]
  },
  {
   "cell_type": "code",
   "execution_count": 4,
   "id": "7f36f861-0589-4e8b-b1ae-85cb82507969",
   "metadata": {},
   "outputs": [
    {
     "data": {
      "text/plain": [
       "17"
      ]
     },
     "execution_count": 4,
     "metadata": {},
     "output_type": "execute_result"
    }
   ],
   "source": [
    "\n",
    "code3 = compile(\"(3*4)+5\",\"<string>\",\"eval\")\n",
    "eval(code3)"
   ]
  },
  {
   "cell_type": "markdown",
   "id": "ef867ca6-0205-430b-acc7-27cb0d0c6604",
   "metadata": {},
   "source": [
    "This will convert 200 minutes to hours by dividing by 60"
   ]
  },
  {
   "cell_type": "code",
   "execution_count": 5,
   "id": "687c6214-8194-4719-a4ad-4633c6f9eef9",
   "metadata": {},
   "outputs": [
    {
     "name": "stdout",
     "output_type": "stream",
     "text": [
      "0 days, 3.3333333333333335 hours, 0 mins. \n"
     ]
    }
   ],
   "source": [
    "days = 0\n",
    "hours = 0\n",
    "mins = 0\n",
    "\n",
    "time = 200\n",
    "#days = time / 1440\n",
    "leftover_minutes = time % 1440\n",
    "hours = leftover_minutes / 60\n",
    "#mins = time - (days*1440) - (hours*60)\n",
    "print(str(days) + \" days, \" + str(hours) + \" hours, \" + str(mins) +  \" mins. \")\n",
    "\n"
   ]
  },
  {
   "cell_type": "markdown",
   "id": "937c1fd4-3b70-4baf-8cae-3c5352eb4153",
   "metadata": {},
   "source": [
    "**Objectives**\n",
    "* Develop a foundational understanding of data science concepts.\n",
    "* Master essential programming skills\n",
    "* Gain proficiency in data visualization and analysis"
   ]
  },
  {
   "cell_type": "markdown",
   "id": "25440e5c-6d8d-470d-afb3-9a85ba4b29af",
   "metadata": {},
   "source": [
    "## **Author:**\n",
    "Pushkala Yellaye"
   ]
  },
  {
   "cell_type": "code",
   "execution_count": null,
   "id": "56909ef9-bd81-4006-b595-73680c000d47",
   "metadata": {},
   "outputs": [],
   "source": []
  }
 ],
 "metadata": {
  "kernelspec": {
   "display_name": "Python 3 (ipykernel)",
   "language": "python",
   "name": "python3"
  },
  "language_info": {
   "codemirror_mode": {
    "name": "ipython",
    "version": 3
   },
   "file_extension": ".py",
   "mimetype": "text/x-python",
   "name": "python",
   "nbconvert_exporter": "python",
   "pygments_lexer": "ipython3",
   "version": "3.12.8"
  }
 },
 "nbformat": 4,
 "nbformat_minor": 5
}
